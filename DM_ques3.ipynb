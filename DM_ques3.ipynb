{
 "cells": [
  {
   "cell_type": "code",
   "execution_count": 1,
   "id": "bc6a5d2f",
   "metadata": {},
   "outputs": [
    {
     "name": "stdout",
     "output_type": "stream",
     "text": [
      "Collecting mlxtend\n",
      "  Obtaining dependency information for mlxtend from https://files.pythonhosted.org/packages/1c/07/512f6a780239ad6ce06ce2aa7b4067583f5ddcfc7703a964a082c706a070/mlxtend-0.23.1-py3-none-any.whl.metadata\n",
      "  Downloading mlxtend-0.23.1-py3-none-any.whl.metadata (7.3 kB)\n",
      "Requirement already satisfied: scipy>=1.2.1 in c:\\users\\admin\\anaconda3\\lib\\site-packages (from mlxtend) (1.11.1)\n",
      "Requirement already satisfied: numpy>=1.16.2 in c:\\users\\admin\\anaconda3\\lib\\site-packages (from mlxtend) (1.24.3)\n",
      "Requirement already satisfied: pandas>=0.24.2 in c:\\users\\admin\\anaconda3\\lib\\site-packages (from mlxtend) (2.1.4)\n",
      "Requirement already satisfied: scikit-learn>=1.0.2 in c:\\users\\admin\\anaconda3\\lib\\site-packages (from mlxtend) (1.3.0)\n",
      "Requirement already satisfied: matplotlib>=3.0.0 in c:\\users\\admin\\anaconda3\\lib\\site-packages (from mlxtend) (3.7.2)\n",
      "Requirement already satisfied: joblib>=0.13.2 in c:\\users\\admin\\anaconda3\\lib\\site-packages (from mlxtend) (1.2.0)\n",
      "Requirement already satisfied: contourpy>=1.0.1 in c:\\users\\admin\\anaconda3\\lib\\site-packages (from matplotlib>=3.0.0->mlxtend) (1.0.5)\n",
      "Requirement already satisfied: cycler>=0.10 in c:\\users\\admin\\anaconda3\\lib\\site-packages (from matplotlib>=3.0.0->mlxtend) (0.11.0)\n",
      "Requirement already satisfied: fonttools>=4.22.0 in c:\\users\\admin\\anaconda3\\lib\\site-packages (from matplotlib>=3.0.0->mlxtend) (4.25.0)\n",
      "Requirement already satisfied: kiwisolver>=1.0.1 in c:\\users\\admin\\anaconda3\\lib\\site-packages (from matplotlib>=3.0.0->mlxtend) (1.4.4)\n",
      "Requirement already satisfied: packaging>=20.0 in c:\\users\\admin\\anaconda3\\lib\\site-packages (from matplotlib>=3.0.0->mlxtend) (23.1)\n",
      "Requirement already satisfied: pillow>=6.2.0 in c:\\users\\admin\\anaconda3\\lib\\site-packages (from matplotlib>=3.0.0->mlxtend) (9.4.0)\n",
      "Requirement already satisfied: pyparsing<3.1,>=2.3.1 in c:\\users\\admin\\anaconda3\\lib\\site-packages (from matplotlib>=3.0.0->mlxtend) (3.0.9)\n",
      "Requirement already satisfied: python-dateutil>=2.7 in c:\\users\\admin\\anaconda3\\lib\\site-packages (from matplotlib>=3.0.0->mlxtend) (2.8.2)\n",
      "Requirement already satisfied: pytz>=2020.1 in c:\\users\\admin\\anaconda3\\lib\\site-packages (from pandas>=0.24.2->mlxtend) (2023.3.post1)\n",
      "Requirement already satisfied: tzdata>=2022.1 in c:\\users\\admin\\anaconda3\\lib\\site-packages (from pandas>=0.24.2->mlxtend) (2023.3)\n",
      "Requirement already satisfied: threadpoolctl>=2.0.0 in c:\\users\\admin\\anaconda3\\lib\\site-packages (from scikit-learn>=1.0.2->mlxtend) (2.2.0)\n",
      "Requirement already satisfied: six>=1.5 in c:\\users\\admin\\anaconda3\\lib\\site-packages (from python-dateutil>=2.7->matplotlib>=3.0.0->mlxtend) (1.16.0)\n",
      "Downloading mlxtend-0.23.1-py3-none-any.whl (1.4 MB)\n",
      "   ---------------------------------------- 0.0/1.4 MB ? eta -:--:--\n",
      "    --------------------------------------- 0.0/1.4 MB 1.3 MB/s eta 0:00:02\n",
      "   ---------- ----------------------------- 0.4/1.4 MB 4.9 MB/s eta 0:00:01\n",
      "   --------------- ------------------------ 0.6/1.4 MB 4.5 MB/s eta 0:00:01\n",
      "   -------------------- ------------------- 0.7/1.4 MB 4.3 MB/s eta 0:00:01\n",
      "   ------------------------- -------------- 0.9/1.4 MB 4.1 MB/s eta 0:00:01\n",
      "   ----------------------------- ---------- 1.1/1.4 MB 4.0 MB/s eta 0:00:01\n",
      "   --------------------------------- ------ 1.2/1.4 MB 3.8 MB/s eta 0:00:01\n",
      "   ------------------------------------- -- 1.4/1.4 MB 3.8 MB/s eta 0:00:01\n",
      "   ---------------------------------------- 1.4/1.4 MB 3.8 MB/s eta 0:00:00\n",
      "Installing collected packages: mlxtend\n",
      "Successfully installed mlxtend-0.23.1\n",
      "Note: you may need to restart the kernel to use updated packages.\n"
     ]
    }
   ],
   "source": [
    "pip install mlxtend"
   ]
  },
  {
   "cell_type": "code",
   "execution_count": 3,
   "id": "f2220ca8",
   "metadata": {},
   "outputs": [
    {
     "name": "stdout",
     "output_type": "stream",
     "text": [
      "Frequent itemsets:\n",
      "    support               itemsets\n",
      "0       1.0                (bread)\n",
      "1       1.0                 (eggs)\n",
      "2       0.6                 (milk)\n",
      "3       0.6               (butter)\n",
      "4       1.0          (eggs, bread)\n",
      "5       0.6          (milk, bread)\n",
      "6       0.6        (butter, bread)\n",
      "7       0.6           (eggs, milk)\n",
      "8       0.6         (eggs, butter)\n",
      "9       0.6    (eggs, milk, bread)\n",
      "10      0.6  (eggs, butter, bread)\n",
      "\n",
      "Association rules:\n",
      "        antecedents    consequents  antecedent support  consequent support  \\\n",
      "0            (eggs)        (bread)                 1.0                 1.0   \n",
      "1           (bread)         (eggs)                 1.0                 1.0   \n",
      "2            (milk)        (bread)                 0.6                 1.0   \n",
      "3          (butter)        (bread)                 0.6                 1.0   \n",
      "4            (milk)         (eggs)                 0.6                 1.0   \n",
      "5          (butter)         (eggs)                 0.6                 1.0   \n",
      "6      (eggs, milk)        (bread)                 0.6                 1.0   \n",
      "7     (milk, bread)         (eggs)                 0.6                 1.0   \n",
      "8            (milk)  (eggs, bread)                 0.6                 1.0   \n",
      "9    (eggs, butter)        (bread)                 0.6                 1.0   \n",
      "10  (butter, bread)         (eggs)                 0.6                 1.0   \n",
      "11         (butter)  (eggs, bread)                 0.6                 1.0   \n",
      "\n",
      "    support  confidence  lift  leverage  conviction  zhangs_metric  \n",
      "0       1.0         1.0   1.0       0.0         inf            0.0  \n",
      "1       1.0         1.0   1.0       0.0         inf            0.0  \n",
      "2       0.6         1.0   1.0       0.0         inf            0.0  \n",
      "3       0.6         1.0   1.0       0.0         inf            0.0  \n",
      "4       0.6         1.0   1.0       0.0         inf            0.0  \n",
      "5       0.6         1.0   1.0       0.0         inf            0.0  \n",
      "6       0.6         1.0   1.0       0.0         inf            0.0  \n",
      "7       0.6         1.0   1.0       0.0         inf            0.0  \n",
      "8       0.6         1.0   1.0       0.0         inf            0.0  \n",
      "9       0.6         1.0   1.0       0.0         inf            0.0  \n",
      "10      0.6         1.0   1.0       0.0         inf            0.0  \n",
      "11      0.6         1.0   1.0       0.0         inf            0.0  \n"
     ]
    },
    {
     "name": "stderr",
     "output_type": "stream",
     "text": [
      "C:\\Users\\ADMIN\\anaconda3\\Lib\\site-packages\\mlxtend\\frequent_patterns\\fpcommon.py:109: DeprecationWarning: DataFrames with non-bool types result in worse computationalperformance and their support might be discontinued in the future.Please use a DataFrame with bool type\n",
      "  warnings.warn(\n"
     ]
    }
   ],
   "source": [
    "import pandas as pd\n",
    "from mlxtend.frequent_patterns import apriori, association_rules\n",
    "\n",
    "# Example dataset\n",
    "data1 = [['eggs', 'milk', 'bread'],\n",
    "         ['eggs', 'butter', 'bread'],\n",
    "         ['eggs', 'milk', 'bread', 'butter'],\n",
    "         ['eggs', 'bread'],\n",
    "         ['eggs', 'milk', 'bread', 'butter', 'cheese']]\n",
    "\n",
    "# Find unique items in the dataset\n",
    "unique_items = set()\n",
    "for transaction in data1:\n",
    "    unique_items.update(transaction)\n",
    "\n",
    "# Create a DataFrame with one-hot encoding\n",
    "df = pd.DataFrame(0, index=range(len(data1)), columns=list(unique_items))\n",
    "\n",
    "for i, transaction in enumerate(data1):\n",
    "    for item in transaction:\n",
    "        df.loc[i, item] = 1\n",
    "\n",
    "# Set minimum support and confidence\n",
    "min_support = 0.5\n",
    "min_confidence = 0.75\n",
    "\n",
    "# Find frequent itemsets\n",
    "frequent_itemsets = apriori(df, min_support=min_support, use_colnames=True)\n",
    "\n",
    "# Generate association rules\n",
    "rules = association_rules(frequent_itemsets, metric='confidence', min_threshold=min_confidence)\n",
    "\n",
    "# Print the results\n",
    "print(\"Frequent itemsets:\")\n",
    "print(frequent_itemsets)\n",
    "print(\"\\nAssociation rules:\")\n",
    "print(rules)\n"
   ]
  },
  {
   "cell_type": "code",
   "execution_count": 4,
   "id": "5565c1f6",
   "metadata": {},
   "outputs": [
    {
     "name": "stdout",
     "output_type": "stream",
     "text": [
      "Frequent itemsets:\n",
      "   support                itemsets\n",
      "0      0.8               (bananas)\n",
      "1      0.6          (orange juice)\n",
      "2      0.8                (apples)\n",
      "3      0.6       (bananas, apples)\n",
      "4      0.6  (apples, orange juice)\n",
      "\n",
      "Association rules:\n",
      "      antecedents     consequents  antecedent support  consequent support  \\\n",
      "0       (bananas)        (apples)                 0.8                 0.8   \n",
      "1        (apples)       (bananas)                 0.8                 0.8   \n",
      "2        (apples)  (orange juice)                 0.8                 0.6   \n",
      "3  (orange juice)        (apples)                 0.6                 0.8   \n",
      "\n",
      "   support  confidence    lift  leverage  conviction  zhangs_metric  \n",
      "0      0.6        0.75  0.9375     -0.04         0.8          -0.25  \n",
      "1      0.6        0.75  0.9375     -0.04         0.8          -0.25  \n",
      "2      0.6        0.75  1.2500      0.12         1.6           1.00  \n",
      "3      0.6        1.00  1.2500      0.12         inf           0.50  \n"
     ]
    },
    {
     "name": "stderr",
     "output_type": "stream",
     "text": [
      "C:\\Users\\ADMIN\\anaconda3\\Lib\\site-packages\\mlxtend\\frequent_patterns\\fpcommon.py:109: DeprecationWarning: DataFrames with non-bool types result in worse computationalperformance and their support might be discontinued in the future.Please use a DataFrame with bool type\n",
      "  warnings.warn(\n"
     ]
    }
   ],
   "source": [
    "import pandas as pd\n",
    "from mlxtend.frequent_patterns import apriori, association_rules\n",
    "\n",
    "# Example dataset\n",
    "data2 = [['apples', 'bananas', 'orange juice'],\n",
    "         ['apples', 'bananas', 'yogurt'],\n",
    "         ['apples', 'orange juice', 'granola'],\n",
    "         ['bananas', 'yogurt', 'milk'],\n",
    "         ['apples', 'bananas', 'orange juice', 'granola']]\n",
    "\n",
    "# Find unique items in the dataset\n",
    "unique_items = set()\n",
    "for transaction in data2:\n",
    "    unique_items.update(transaction)\n",
    "\n",
    "# Create a DataFrame with one-hot encoding\n",
    "df = pd.DataFrame(0, index=range(len(data2)), columns=list(unique_items))\n",
    "\n",
    "for i, transaction in enumerate(data2):\n",
    "    for item in transaction:\n",
    "        df.loc[i, item] = 1\n",
    "\n",
    "# Set minimum support and confidence\n",
    "min_support = 0.6\n",
    "min_confidence = 0.6\n",
    "\n",
    "# Find frequent itemsets\n",
    "frequent_itemsets = apriori(df, min_support=min_support, use_colnames=True)\n",
    "\n",
    "# Generate association rules\n",
    "rules = association_rules(frequent_itemsets, metric='confidence', min_threshold=min_confidence)\n",
    "\n",
    "# Print the results\n",
    "print(\"Frequent itemsets:\")\n",
    "print(frequent_itemsets)\n",
    "print(\"\\nAssociation rules:\")\n",
    "print(rules)\n"
   ]
  },
  {
   "cell_type": "code",
   "execution_count": null,
   "id": "ec30ac4a",
   "metadata": {},
   "outputs": [],
   "source": []
  }
 ],
 "metadata": {
  "kernelspec": {
   "display_name": "Python 3 (ipykernel)",
   "language": "python",
   "name": "python3"
  },
  "language_info": {
   "codemirror_mode": {
    "name": "ipython",
    "version": 3
   },
   "file_extension": ".py",
   "mimetype": "text/x-python",
   "name": "python",
   "nbconvert_exporter": "python",
   "pygments_lexer": "ipython3",
   "version": "3.11.5"
  }
 },
 "nbformat": 4,
 "nbformat_minor": 5
}
