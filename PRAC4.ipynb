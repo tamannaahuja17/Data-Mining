{
  "nbformat": 4,
  "nbformat_minor": 0,
  "metadata": {
    "colab": {
      "provenance": []
    },
    "kernelspec": {
      "name": "python3",
      "display_name": "Python 3"
    },
    "language_info": {
      "name": "python"
    }
  },
  "cells": [
    {
      "cell_type": "code",
      "execution_count": 3,
      "metadata": {
        "colab": {
          "base_uri": "https://localhost:8080/"
        },
        "id": "TpGSsVmKijf4",
        "outputId": "f80b42d0-4b28-4299-e074-981a09672b31"
      },
      "outputs": [
        {
          "output_type": "stream",
          "name": "stdout",
          "text": [
            "\n",
            "Scenario: Train Size = 75.0%, Test Size = 25.0%\n",
            "\n",
            "Dataset: Iris\n",
            "Naive Bayes Accuracy: 1.00\n",
            "KNN Accuracy: 1.00\n",
            "Decision Tree Accuracy: 1.00\n",
            "\n",
            "Cross-validation for Dataset: Iris\n",
            "Naive Bayes Cross-validation Accuracy: 0.95\n",
            "KNN Cross-validation Accuracy: 0.97\n",
            "Decision Tree Cross-validation Accuracy: 0.97\n",
            "\n",
            "Dataset: digits\n",
            "Naive Bayes Accuracy: 0.86\n",
            "KNN Accuracy: 0.99\n",
            "Decision Tree Accuracy: 0.87\n",
            "\n",
            "Cross-validation for Dataset: digits\n",
            "Naive Bayes Cross-validation Accuracy: 0.81\n",
            "KNN Cross-validation Accuracy: 0.96\n",
            "Decision Tree Cross-validation Accuracy: 0.79\n",
            "\n",
            "Scenario: Train Size = 66.66666666666666%, Test Size = 33.33333333333333%\n",
            "\n",
            "Dataset: Iris\n",
            "Naive Bayes Accuracy: 0.96\n",
            "KNN Accuracy: 0.98\n",
            "Decision Tree Accuracy: 0.98\n",
            "\n",
            "Cross-validation for Dataset: Iris\n",
            "Naive Bayes Cross-validation Accuracy: 0.95\n",
            "KNN Cross-validation Accuracy: 0.97\n",
            "Decision Tree Cross-validation Accuracy: 0.97\n",
            "\n",
            "Dataset: digits\n",
            "Naive Bayes Accuracy: 0.81\n",
            "KNN Accuracy: 0.99\n",
            "Decision Tree Accuracy: 0.84\n",
            "\n",
            "Cross-validation for Dataset: digits\n",
            "Naive Bayes Cross-validation Accuracy: 0.81\n",
            "KNN Cross-validation Accuracy: 0.96\n",
            "Decision Tree Cross-validation Accuracy: 0.78\n"
          ]
        }
      ],
      "source": [
        "from sklearn.model_selection import train_test_split, cross_val_score\n",
        "from sklearn.preprocessing import StandardScaler\n",
        "from sklearn.naive_bayes import GaussianNB\n",
        "from sklearn.neighbors import KNeighborsClassifier\n",
        "from sklearn.tree import DecisionTreeClassifier\n",
        "from sklearn.datasets import load_iris, load_digits\n",
        "import numpy as np\n",
        "\n",
        "# Load datasets\n",
        "iris = load_iris()\n",
        "X_iris, y_iris = iris.data, iris.target\n",
        "\n",
        "digits = load_digits()\n",
        "X_digits, y_digits = digits.data, digits.target\n",
        "\n",
        "\n",
        "datasets = [(X_iris, y_iris), (X_digits, y_digits)]\n",
        "dataset_names = ['Iris', 'digits']\n",
        "\n",
        "classifiers = {\n",
        "    'Naive Bayes': GaussianNB(),\n",
        "    'KNN': KNeighborsClassifier(),\n",
        "    'Decision Tree': DecisionTreeClassifier()\n",
        "}\n",
        "\n",
        "# Preprocess Data\n",
        "scaler = StandardScaler()\n",
        "\n",
        "for X, _ in datasets:\n",
        "    scaler.fit(X)\n",
        "    X = scaler.transform(X)\n",
        "\n",
        "# Define scenarios\n",
        "scenarios = [\n",
        "    {'train_size': 0.75, 'test_size': 0.25},\n",
        "    {'train_size': 2/3, 'test_size': 1/3}\n",
        "]\n",
        "\n",
        "for scenario in scenarios:\n",
        "    print(f\"\\nScenario: Train Size = {scenario['train_size']*100}%, Test Size = {scenario['test_size']*100}%\")\n",
        "    for dataset, dataset_name in zip(datasets, dataset_names):\n",
        "        X, y = dataset\n",
        "        X_train, X_test, y_train, y_test = train_test_split(X, y, train_size=scenario['train_size'], test_size=scenario['test_size'], random_state=42)\n",
        "\n",
        "        print(f\"\\nDataset: {dataset_name}\")\n",
        "        for clf_name, clf in classifiers.items():\n",
        "            clf.fit(X_train, y_train)\n",
        "            accuracy = clf.score(X_test, y_test)\n",
        "            print(f\"{clf_name} Accuracy: {accuracy:.2f}\")\n",
        "\n",
        "        # Cross-validation\n",
        "        print(f\"\\nCross-validation for Dataset: {dataset_name}\")\n",
        "        for clf_name, clf in classifiers.items():\n",
        "            scores = cross_val_score(clf, X, y, cv=5)\n",
        "            print(f\"{clf_name} Cross-validation Accuracy: {np.mean(scores):.2f}\")\n"
      ]
    }
  ]
}