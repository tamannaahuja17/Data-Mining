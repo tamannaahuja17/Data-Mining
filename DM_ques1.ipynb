{
 "cells": [
  {
   "cell_type": "code",
   "execution_count": 1,
   "metadata": {
    "executionInfo": {
     "elapsed": 4250,
     "status": "ok",
     "timestamp": 1708513327542,
     "user": {
      "displayName": "UPASNA KUKRETI",
      "userId": "10577638876067267102"
     },
     "user_tz": -330
    },
    "id": "-lnXFaNdtQz-"
   },
   "outputs": [],
   "source": [
    "import pandas as pd\n",
    "import numpy as np\n",
    "import matplotlib.pyplot as plt\n",
    "from sklearn import datasets\n",
    "import plotly.express as px"
   ]
  },
  {
   "cell_type": "code",
   "execution_count": 2,
   "metadata": {
    "executionInfo": {
     "elapsed": 3,
     "status": "ok",
     "timestamp": 1708513329217,
     "user": {
      "displayName": "UPASNA KUKRETI",
      "userId": "10577638876067267102"
     },
     "user_tz": -330
    },
    "id": "hppKHUZOtfHO"
   },
   "outputs": [],
   "source": [
    "data=pd.read_csv(\"dirty_iris.csv\")"
   ]
  },
  {
   "cell_type": "code",
   "execution_count": 3,
   "metadata": {
    "colab": {
     "base_uri": "https://localhost:8080/",
     "height": 424
    },
    "executionInfo": {
     "elapsed": 3,
     "status": "ok",
     "timestamp": 1708513331113,
     "user": {
      "displayName": "UPASNA KUKRETI",
      "userId": "10577638876067267102"
     },
     "user_tz": -330
    },
    "id": "jLOaklaBtt0W",
    "outputId": "f5bd52a5-bc50-4f78-f65b-cfb68814e2e6"
   },
   "outputs": [
    {
     "data": {
      "text/html": [
       "<div>\n",
       "<style scoped>\n",
       "    .dataframe tbody tr th:only-of-type {\n",
       "        vertical-align: middle;\n",
       "    }\n",
       "\n",
       "    .dataframe tbody tr th {\n",
       "        vertical-align: top;\n",
       "    }\n",
       "\n",
       "    .dataframe thead th {\n",
       "        text-align: right;\n",
       "    }\n",
       "</style>\n",
       "<table border=\"1\" class=\"dataframe\">\n",
       "  <thead>\n",
       "    <tr style=\"text-align: right;\">\n",
       "      <th></th>\n",
       "      <th>Sepal.Length</th>\n",
       "      <th>Sepal.Width</th>\n",
       "      <th>Petal.Length</th>\n",
       "      <th>Petal.Width</th>\n",
       "      <th>Species</th>\n",
       "    </tr>\n",
       "  </thead>\n",
       "  <tbody>\n",
       "    <tr>\n",
       "      <th>0</th>\n",
       "      <td>6.4</td>\n",
       "      <td>3.2</td>\n",
       "      <td>4.5</td>\n",
       "      <td>1.5</td>\n",
       "      <td>versicolor</td>\n",
       "    </tr>\n",
       "    <tr>\n",
       "      <th>1</th>\n",
       "      <td>6.3</td>\n",
       "      <td>3.3</td>\n",
       "      <td>6.0</td>\n",
       "      <td>2.5</td>\n",
       "      <td>virginica</td>\n",
       "    </tr>\n",
       "    <tr>\n",
       "      <th>2</th>\n",
       "      <td>6.2</td>\n",
       "      <td>NaN</td>\n",
       "      <td>5.4</td>\n",
       "      <td>2.3</td>\n",
       "      <td>virginica</td>\n",
       "    </tr>\n",
       "    <tr>\n",
       "      <th>3</th>\n",
       "      <td>5.0</td>\n",
       "      <td>3.4</td>\n",
       "      <td>1.6</td>\n",
       "      <td>0.4</td>\n",
       "      <td>setosa</td>\n",
       "    </tr>\n",
       "    <tr>\n",
       "      <th>4</th>\n",
       "      <td>5.7</td>\n",
       "      <td>2.6</td>\n",
       "      <td>3.5</td>\n",
       "      <td>1.0</td>\n",
       "      <td>versicolor</td>\n",
       "    </tr>\n",
       "    <tr>\n",
       "      <th>...</th>\n",
       "      <td>...</td>\n",
       "      <td>...</td>\n",
       "      <td>...</td>\n",
       "      <td>...</td>\n",
       "      <td>...</td>\n",
       "    </tr>\n",
       "    <tr>\n",
       "      <th>145</th>\n",
       "      <td>6.7</td>\n",
       "      <td>3.1</td>\n",
       "      <td>5.6</td>\n",
       "      <td>2.4</td>\n",
       "      <td>virginica</td>\n",
       "    </tr>\n",
       "    <tr>\n",
       "      <th>146</th>\n",
       "      <td>5.6</td>\n",
       "      <td>3.0</td>\n",
       "      <td>4.5</td>\n",
       "      <td>1.5</td>\n",
       "      <td>versicolor</td>\n",
       "    </tr>\n",
       "    <tr>\n",
       "      <th>147</th>\n",
       "      <td>5.2</td>\n",
       "      <td>3.5</td>\n",
       "      <td>1.5</td>\n",
       "      <td>0.2</td>\n",
       "      <td>setosa</td>\n",
       "    </tr>\n",
       "    <tr>\n",
       "      <th>148</th>\n",
       "      <td>6.4</td>\n",
       "      <td>3.1</td>\n",
       "      <td>NaN</td>\n",
       "      <td>1.8</td>\n",
       "      <td>virginica</td>\n",
       "    </tr>\n",
       "    <tr>\n",
       "      <th>149</th>\n",
       "      <td>5.8</td>\n",
       "      <td>2.6</td>\n",
       "      <td>4.0</td>\n",
       "      <td>NaN</td>\n",
       "      <td>versicolor</td>\n",
       "    </tr>\n",
       "  </tbody>\n",
       "</table>\n",
       "<p>150 rows × 5 columns</p>\n",
       "</div>"
      ],
      "text/plain": [
       "     Sepal.Length  Sepal.Width  Petal.Length  Petal.Width     Species\n",
       "0             6.4          3.2           4.5          1.5  versicolor\n",
       "1             6.3          3.3           6.0          2.5   virginica\n",
       "2             6.2          NaN           5.4          2.3   virginica\n",
       "3             5.0          3.4           1.6          0.4      setosa\n",
       "4             5.7          2.6           3.5          1.0  versicolor\n",
       "..            ...          ...           ...          ...         ...\n",
       "145           6.7          3.1           5.6          2.4   virginica\n",
       "146           5.6          3.0           4.5          1.5  versicolor\n",
       "147           5.2          3.5           1.5          0.2      setosa\n",
       "148           6.4          3.1           NaN          1.8   virginica\n",
       "149           5.8          2.6           4.0          NaN  versicolor\n",
       "\n",
       "[150 rows x 5 columns]"
      ]
     },
     "execution_count": 3,
     "metadata": {},
     "output_type": "execute_result"
    }
   ],
   "source": [
    "df=df=pd.DataFrame(data)\n",
    "df"
   ]
  },
  {
   "cell_type": "code",
   "execution_count": 4,
   "metadata": {
    "colab": {
     "base_uri": "https://localhost:8080/",
     "height": 206
    },
    "executionInfo": {
     "elapsed": 507,
     "status": "ok",
     "timestamp": 1708513334513,
     "user": {
      "displayName": "UPASNA KUKRETI",
      "userId": "10577638876067267102"
     },
     "user_tz": -330
    },
    "id": "_kFVHIsHu4E5",
    "outputId": "2fcd10ee-f9b7-4c03-fdbb-27e316244322"
   },
   "outputs": [
    {
     "data": {
      "text/html": [
       "<div>\n",
       "<style scoped>\n",
       "    .dataframe tbody tr th:only-of-type {\n",
       "        vertical-align: middle;\n",
       "    }\n",
       "\n",
       "    .dataframe tbody tr th {\n",
       "        vertical-align: top;\n",
       "    }\n",
       "\n",
       "    .dataframe thead th {\n",
       "        text-align: right;\n",
       "    }\n",
       "</style>\n",
       "<table border=\"1\" class=\"dataframe\">\n",
       "  <thead>\n",
       "    <tr style=\"text-align: right;\">\n",
       "      <th></th>\n",
       "      <th>Sepal.Length</th>\n",
       "      <th>Sepal.Width</th>\n",
       "      <th>Petal.Length</th>\n",
       "      <th>Petal.Width</th>\n",
       "      <th>Species</th>\n",
       "    </tr>\n",
       "  </thead>\n",
       "  <tbody>\n",
       "    <tr>\n",
       "      <th>0</th>\n",
       "      <td>6.4</td>\n",
       "      <td>3.2</td>\n",
       "      <td>4.5</td>\n",
       "      <td>1.5</td>\n",
       "      <td>versicolor</td>\n",
       "    </tr>\n",
       "    <tr>\n",
       "      <th>1</th>\n",
       "      <td>6.3</td>\n",
       "      <td>3.3</td>\n",
       "      <td>6.0</td>\n",
       "      <td>2.5</td>\n",
       "      <td>virginica</td>\n",
       "    </tr>\n",
       "    <tr>\n",
       "      <th>2</th>\n",
       "      <td>6.2</td>\n",
       "      <td>NaN</td>\n",
       "      <td>5.4</td>\n",
       "      <td>2.3</td>\n",
       "      <td>virginica</td>\n",
       "    </tr>\n",
       "    <tr>\n",
       "      <th>3</th>\n",
       "      <td>5.0</td>\n",
       "      <td>3.4</td>\n",
       "      <td>1.6</td>\n",
       "      <td>0.4</td>\n",
       "      <td>setosa</td>\n",
       "    </tr>\n",
       "    <tr>\n",
       "      <th>4</th>\n",
       "      <td>5.7</td>\n",
       "      <td>2.6</td>\n",
       "      <td>3.5</td>\n",
       "      <td>1.0</td>\n",
       "      <td>versicolor</td>\n",
       "    </tr>\n",
       "  </tbody>\n",
       "</table>\n",
       "</div>"
      ],
      "text/plain": [
       "   Sepal.Length  Sepal.Width  Petal.Length  Petal.Width     Species\n",
       "0           6.4          3.2           4.5          1.5  versicolor\n",
       "1           6.3          3.3           6.0          2.5   virginica\n",
       "2           6.2          NaN           5.4          2.3   virginica\n",
       "3           5.0          3.4           1.6          0.4      setosa\n",
       "4           5.7          2.6           3.5          1.0  versicolor"
      ]
     },
     "execution_count": 4,
     "metadata": {},
     "output_type": "execute_result"
    }
   ],
   "source": [
    "df.head()"
   ]
  },
  {
   "cell_type": "code",
   "execution_count": 5,
   "metadata": {
    "colab": {
     "base_uri": "https://localhost:8080/",
     "height": 206
    },
    "executionInfo": {
     "elapsed": 4,
     "status": "ok",
     "timestamp": 1708513337543,
     "user": {
      "displayName": "UPASNA KUKRETI",
      "userId": "10577638876067267102"
     },
     "user_tz": -330
    },
    "id": "CSXFha4_vHEu",
    "outputId": "5da4fe2f-fcfb-4362-b3f4-8cb2fe1b6742"
   },
   "outputs": [
    {
     "data": {
      "text/html": [
       "<div>\n",
       "<style scoped>\n",
       "    .dataframe tbody tr th:only-of-type {\n",
       "        vertical-align: middle;\n",
       "    }\n",
       "\n",
       "    .dataframe tbody tr th {\n",
       "        vertical-align: top;\n",
       "    }\n",
       "\n",
       "    .dataframe thead th {\n",
       "        text-align: right;\n",
       "    }\n",
       "</style>\n",
       "<table border=\"1\" class=\"dataframe\">\n",
       "  <thead>\n",
       "    <tr style=\"text-align: right;\">\n",
       "      <th></th>\n",
       "      <th>Sepal.Length</th>\n",
       "      <th>Sepal.Width</th>\n",
       "      <th>Petal.Length</th>\n",
       "      <th>Petal.Width</th>\n",
       "      <th>Species</th>\n",
       "    </tr>\n",
       "  </thead>\n",
       "  <tbody>\n",
       "    <tr>\n",
       "      <th>145</th>\n",
       "      <td>6.7</td>\n",
       "      <td>3.1</td>\n",
       "      <td>5.6</td>\n",
       "      <td>2.4</td>\n",
       "      <td>virginica</td>\n",
       "    </tr>\n",
       "    <tr>\n",
       "      <th>146</th>\n",
       "      <td>5.6</td>\n",
       "      <td>3.0</td>\n",
       "      <td>4.5</td>\n",
       "      <td>1.5</td>\n",
       "      <td>versicolor</td>\n",
       "    </tr>\n",
       "    <tr>\n",
       "      <th>147</th>\n",
       "      <td>5.2</td>\n",
       "      <td>3.5</td>\n",
       "      <td>1.5</td>\n",
       "      <td>0.2</td>\n",
       "      <td>setosa</td>\n",
       "    </tr>\n",
       "    <tr>\n",
       "      <th>148</th>\n",
       "      <td>6.4</td>\n",
       "      <td>3.1</td>\n",
       "      <td>NaN</td>\n",
       "      <td>1.8</td>\n",
       "      <td>virginica</td>\n",
       "    </tr>\n",
       "    <tr>\n",
       "      <th>149</th>\n",
       "      <td>5.8</td>\n",
       "      <td>2.6</td>\n",
       "      <td>4.0</td>\n",
       "      <td>NaN</td>\n",
       "      <td>versicolor</td>\n",
       "    </tr>\n",
       "  </tbody>\n",
       "</table>\n",
       "</div>"
      ],
      "text/plain": [
       "     Sepal.Length  Sepal.Width  Petal.Length  Petal.Width     Species\n",
       "145           6.7          3.1           5.6          2.4   virginica\n",
       "146           5.6          3.0           4.5          1.5  versicolor\n",
       "147           5.2          3.5           1.5          0.2      setosa\n",
       "148           6.4          3.1           NaN          1.8   virginica\n",
       "149           5.8          2.6           4.0          NaN  versicolor"
      ]
     },
     "execution_count": 5,
     "metadata": {},
     "output_type": "execute_result"
    }
   ],
   "source": [
    "df.tail()"
   ]
  },
  {
   "cell_type": "code",
   "execution_count": 6,
   "metadata": {
    "colab": {
     "base_uri": "https://localhost:8080/"
    },
    "executionInfo": {
     "elapsed": 466,
     "status": "ok",
     "timestamp": 1708513339759,
     "user": {
      "displayName": "UPASNA KUKRETI",
      "userId": "10577638876067267102"
     },
     "user_tz": -330
    },
    "id": "aq2PDHS2vLGb",
    "outputId": "6d7d7f8b-2817-45b4-c2da-6566460615f5"
   },
   "outputs": [
    {
     "name": "stdout",
     "output_type": "stream",
     "text": [
      "The data has 150 rows 5 cols.\n"
     ]
    }
   ],
   "source": [
    "n_row,n_col=df.shape\n",
    "print(\"The data has {} rows {} cols.\".format(n_row,n_col))"
   ]
  },
  {
   "cell_type": "code",
   "execution_count": 7,
   "metadata": {
    "colab": {
     "base_uri": "https://localhost:8080/"
    },
    "executionInfo": {
     "elapsed": 2,
     "status": "ok",
     "timestamp": 1708513341144,
     "user": {
      "displayName": "UPASNA KUKRETI",
      "userId": "10577638876067267102"
     },
     "user_tz": -330
    },
    "id": "8Qf7uYttv2gE",
    "outputId": "7127a26c-ca0c-4d23-97e0-9c388be6a046"
   },
   "outputs": [
    {
     "name": "stdout",
     "output_type": "stream",
     "text": [
      "<class 'pandas.core.frame.DataFrame'>\n",
      "RangeIndex: 150 entries, 0 to 149\n",
      "Data columns (total 5 columns):\n",
      " #   Column        Non-Null Count  Dtype  \n",
      "---  ------        --------------  -----  \n",
      " 0   Sepal.Length  140 non-null    float64\n",
      " 1   Sepal.Width   133 non-null    float64\n",
      " 2   Petal.Length  131 non-null    float64\n",
      " 3   Petal.Width   138 non-null    float64\n",
      " 4   Species       150 non-null    object \n",
      "dtypes: float64(4), object(1)\n",
      "memory usage: 6.0+ KB\n"
     ]
    }
   ],
   "source": [
    "df.info()"
   ]
  },
  {
   "cell_type": "code",
   "execution_count": 8,
   "metadata": {
    "colab": {
     "base_uri": "https://localhost:8080/",
     "height": 300
    },
    "executionInfo": {
     "elapsed": 3,
     "status": "ok",
     "timestamp": 1708513342994,
     "user": {
      "displayName": "UPASNA KUKRETI",
      "userId": "10577638876067267102"
     },
     "user_tz": -330
    },
    "id": "Va2HNlsOwQMb",
    "outputId": "efc85290-66c8-4305-b171-8db708e9fa73"
   },
   "outputs": [
    {
     "data": {
      "text/html": [
       "<div>\n",
       "<style scoped>\n",
       "    .dataframe tbody tr th:only-of-type {\n",
       "        vertical-align: middle;\n",
       "    }\n",
       "\n",
       "    .dataframe tbody tr th {\n",
       "        vertical-align: top;\n",
       "    }\n",
       "\n",
       "    .dataframe thead th {\n",
       "        text-align: right;\n",
       "    }\n",
       "</style>\n",
       "<table border=\"1\" class=\"dataframe\">\n",
       "  <thead>\n",
       "    <tr style=\"text-align: right;\">\n",
       "      <th></th>\n",
       "      <th>Sepal.Length</th>\n",
       "      <th>Sepal.Width</th>\n",
       "      <th>Petal.Length</th>\n",
       "      <th>Petal.Width</th>\n",
       "    </tr>\n",
       "  </thead>\n",
       "  <tbody>\n",
       "    <tr>\n",
       "      <th>count</th>\n",
       "      <td>140.000000</td>\n",
       "      <td>133.000000</td>\n",
       "      <td>131.000000</td>\n",
       "      <td>138.0</td>\n",
       "    </tr>\n",
       "    <tr>\n",
       "      <th>mean</th>\n",
       "      <td>6.559286</td>\n",
       "      <td>3.390977</td>\n",
       "      <td>4.449962</td>\n",
       "      <td>inf</td>\n",
       "    </tr>\n",
       "    <tr>\n",
       "      <th>std</th>\n",
       "      <td>6.800940</td>\n",
       "      <td>3.315310</td>\n",
       "      <td>5.769299</td>\n",
       "      <td>NaN</td>\n",
       "    </tr>\n",
       "    <tr>\n",
       "      <th>min</th>\n",
       "      <td>0.000000</td>\n",
       "      <td>-3.000000</td>\n",
       "      <td>0.000000</td>\n",
       "      <td>0.1</td>\n",
       "    </tr>\n",
       "    <tr>\n",
       "      <th>25%</th>\n",
       "      <td>5.100000</td>\n",
       "      <td>2.800000</td>\n",
       "      <td>1.600000</td>\n",
       "      <td>0.3</td>\n",
       "    </tr>\n",
       "    <tr>\n",
       "      <th>50%</th>\n",
       "      <td>5.750000</td>\n",
       "      <td>3.000000</td>\n",
       "      <td>4.500000</td>\n",
       "      <td>1.3</td>\n",
       "    </tr>\n",
       "    <tr>\n",
       "      <th>75%</th>\n",
       "      <td>6.400000</td>\n",
       "      <td>3.300000</td>\n",
       "      <td>5.100000</td>\n",
       "      <td>1.8</td>\n",
       "    </tr>\n",
       "    <tr>\n",
       "      <th>max</th>\n",
       "      <td>73.000000</td>\n",
       "      <td>30.000000</td>\n",
       "      <td>63.000000</td>\n",
       "      <td>inf</td>\n",
       "    </tr>\n",
       "  </tbody>\n",
       "</table>\n",
       "</div>"
      ],
      "text/plain": [
       "       Sepal.Length  Sepal.Width  Petal.Length  Petal.Width\n",
       "count    140.000000   133.000000    131.000000        138.0\n",
       "mean       6.559286     3.390977      4.449962          inf\n",
       "std        6.800940     3.315310      5.769299          NaN\n",
       "min        0.000000    -3.000000      0.000000          0.1\n",
       "25%        5.100000     2.800000      1.600000          0.3\n",
       "50%        5.750000     3.000000      4.500000          1.3\n",
       "75%        6.400000     3.300000      5.100000          1.8\n",
       "max       73.000000    30.000000     63.000000          inf"
      ]
     },
     "execution_count": 8,
     "metadata": {},
     "output_type": "execute_result"
    }
   ],
   "source": [
    "df.describe()"
   ]
  },
  {
   "cell_type": "code",
   "execution_count": 9,
   "metadata": {
    "colab": {
     "base_uri": "https://localhost:8080/"
    },
    "executionInfo": {
     "elapsed": 679,
     "status": "ok",
     "timestamp": 1708513345667,
     "user": {
      "displayName": "UPASNA KUKRETI",
      "userId": "10577638876067267102"
     },
     "user_tz": -330
    },
    "id": "R31o5GrvweM-",
    "outputId": "0ec000bf-df34-4a36-d5f0-4034385fc984"
   },
   "outputs": [
    {
     "data": {
      "text/plain": [
       "Sepal.Length     True\n",
       "Sepal.Width      True\n",
       "Petal.Length     True\n",
       "Petal.Width      True\n",
       "Species         False\n",
       "dtype: bool"
      ]
     },
     "execution_count": 9,
     "metadata": {},
     "output_type": "execute_result"
    }
   ],
   "source": [
    "df.isnull().any()"
   ]
  },
  {
   "cell_type": "code",
   "execution_count": 10,
   "metadata": {
    "colab": {
     "base_uri": "https://localhost:8080/"
    },
    "executionInfo": {
     "elapsed": 4,
     "status": "ok",
     "timestamp": 1708513347415,
     "user": {
      "displayName": "UPASNA KUKRETI",
      "userId": "10577638876067267102"
     },
     "user_tz": -330
    },
    "id": "A98kTSbk3RRN",
    "outputId": "ae094c74-c511-438a-af91-bd869d3bcd39"
   },
   "outputs": [
    {
     "data": {
      "text/plain": [
       "array([ 6.4,  6.3,  6.2,  5. ,  5.7,  5.3,  5.9,  5.8,  4.8,  6. ,  6.8,\n",
       "        nan,  5.5,  4.7,  5.6,  4.9,  5.4,  6.7,  4.6, 73. ,  6.5,  4.4,\n",
       "        6.6,  0. ,  7.7,  7. ,  5.2,  5.1,  7.4,  4.3,  7.2,  6.1,  6.9,\n",
       "        7.6,  7.9,  4.5, 49. ])"
      ]
     },
     "execution_count": 10,
     "metadata": {},
     "output_type": "execute_result"
    }
   ],
   "source": [
    "df['Sepal.Length'].unique()"
   ]
  },
  {
   "cell_type": "code",
   "execution_count": 11,
   "metadata": {
    "colab": {
     "base_uri": "https://localhost:8080/"
    },
    "executionInfo": {
     "elapsed": 2,
     "status": "ok",
     "timestamp": 1708513348711,
     "user": {
      "displayName": "UPASNA KUKRETI",
      "userId": "10577638876067267102"
     },
     "user_tz": -330
    },
    "id": "2ONekPwT_LG4",
    "outputId": "995e387a-e4dc-48b3-f068-2bbe4169cee4"
   },
   "outputs": [
    {
     "data": {
      "text/plain": [
       "array([ 3.2,  3.3,  nan,  3.4,  2.6,  2.7,  3. ,  3.1,  3.5,  2.8,  3.9,\n",
       "       -3. ,  4. ,  3.6, 29. ,  2.9,  2.2,  2.5,  4.2,  3.8,  2.3,  3.7,\n",
       "        4.1, 30. ,  0. ])"
      ]
     },
     "execution_count": 11,
     "metadata": {},
     "output_type": "execute_result"
    }
   ],
   "source": [
    "df['Sepal.Width'].unique()"
   ]
  },
  {
   "cell_type": "code",
   "execution_count": 12,
   "metadata": {
    "colab": {
     "base_uri": "https://localhost:8080/"
    },
    "executionInfo": {
     "elapsed": 3,
     "status": "ok",
     "timestamp": 1708513350392,
     "user": {
      "displayName": "UPASNA KUKRETI",
      "userId": "10577638876067267102"
     },
     "user_tz": -330
    },
    "id": "eYkeKutN_LOl",
    "outputId": "56590d0a-9dc4-4e99-a141-d6c068abd8d7"
   },
   "outputs": [
    {
     "data": {
      "text/plain": [
       "array([ 4.5  ,  6.   ,  5.4  ,  1.6  ,  3.5  ,    nan,  5.3  ,  5.1  ,\n",
       "        4.1  ,  4.8  ,  1.7  ,  4.   ,  1.3  ,  4.2  ,  5.7  ,  5.9  ,\n",
       "        1.4  ,  1.5  , 63.   ,  0.82 , 23.   ,  5.5  ,  5.8  ,  1.2  ,\n",
       "        3.9  ,  6.7  ,  4.7  ,  4.4  ,  5.6  ,  3.3  ,  6.1  ,  1.1  ,\n",
       "        4.9  ,  4.6  ,  6.6  ,  0.   ,  6.4  ,  5.2  ,  1.9  ,  4.3  ,\n",
       "        5.   ,  0.925,  6.9  , 14.   ,  3.6  ,  3.8  ])"
      ]
     },
     "execution_count": 12,
     "metadata": {},
     "output_type": "execute_result"
    }
   ],
   "source": [
    "df['Petal.Length'].unique()"
   ]
  },
  {
   "cell_type": "code",
   "execution_count": 13,
   "metadata": {
    "colab": {
     "base_uri": "https://localhost:8080/"
    },
    "executionInfo": {
     "elapsed": 2,
     "status": "ok",
     "timestamp": 1708513351555,
     "user": {
      "displayName": "UPASNA KUKRETI",
      "userId": "10577638876067267102"
     },
     "user_tz": -330
    },
    "id": "PUMFO4gO_LYI",
    "outputId": "417ce8a9-e279-43e4-c139-ac00ece63f16"
   },
   "outputs": [
    {
     "data": {
      "text/plain": [
       "array([1.5, 2.5, 2.3, 0.4, 1. , 0.2, nan, 1.8, 0.6, 1.6, 1.4, 1.3, 0.1,\n",
       "       2.1, 2. , 1.2, 1.9, 2.2, 0.3, 1.1, inf, 1.7, 2.4, 0.5])"
      ]
     },
     "execution_count": 13,
     "metadata": {},
     "output_type": "execute_result"
    }
   ],
   "source": [
    "df['Petal.Width'].unique()"
   ]
  },
  {
   "cell_type": "code",
   "execution_count": 14,
   "metadata": {
    "executionInfo": {
     "elapsed": 2,
     "status": "ok",
     "timestamp": 1708513352932,
     "user": {
      "displayName": "UPASNA KUKRETI",
      "userId": "10577638876067267102"
     },
     "user_tz": -330
    },
    "id": "7-5762tXwjxP"
   },
   "outputs": [],
   "source": [
    "df1=df.replace(np.inf,np.nan)"
   ]
  },
  {
   "cell_type": "code",
   "execution_count": 15,
   "metadata": {
    "colab": {
     "base_uri": "https://localhost:8080/",
     "height": 480
    },
    "executionInfo": {
     "elapsed": 5,
     "status": "ok",
     "timestamp": 1708513353993,
     "user": {
      "displayName": "UPASNA KUKRETI",
      "userId": "10577638876067267102"
     },
     "user_tz": -330
    },
    "id": "85cWSNSwAOIQ",
    "outputId": "35334902-f5ae-4b54-ce97-fe2721619633"
   },
   "outputs": [
    {
     "name": "stderr",
     "output_type": "stream",
     "text": [
      "C:\\Users\\CSLab\\AppData\\Local\\Temp\\ipykernel_12628\\1688229974.py:2: FutureWarning: Dropping of nuisance columns in DataFrame reductions (with 'numeric_only=None') is deprecated; in a future version this will raise TypeError.  Select only valid columns before calling the reduction.\n",
      "  df1=df1.replace(np.nan,df.mean())\n"
     ]
    },
    {
     "data": {
      "text/html": [
       "<div>\n",
       "<style scoped>\n",
       "    .dataframe tbody tr th:only-of-type {\n",
       "        vertical-align: middle;\n",
       "    }\n",
       "\n",
       "    .dataframe tbody tr th {\n",
       "        vertical-align: top;\n",
       "    }\n",
       "\n",
       "    .dataframe thead th {\n",
       "        text-align: right;\n",
       "    }\n",
       "</style>\n",
       "<table border=\"1\" class=\"dataframe\">\n",
       "  <thead>\n",
       "    <tr style=\"text-align: right;\">\n",
       "      <th></th>\n",
       "      <th>Sepal.Length</th>\n",
       "      <th>Sepal.Width</th>\n",
       "      <th>Petal.Length</th>\n",
       "      <th>Petal.Width</th>\n",
       "      <th>Species</th>\n",
       "    </tr>\n",
       "  </thead>\n",
       "  <tbody>\n",
       "    <tr>\n",
       "      <th>0</th>\n",
       "      <td>6.4</td>\n",
       "      <td>3.200000</td>\n",
       "      <td>4.500000</td>\n",
       "      <td>1.500000</td>\n",
       "      <td>versicolor</td>\n",
       "    </tr>\n",
       "    <tr>\n",
       "      <th>1</th>\n",
       "      <td>6.3</td>\n",
       "      <td>3.300000</td>\n",
       "      <td>6.000000</td>\n",
       "      <td>2.500000</td>\n",
       "      <td>virginica</td>\n",
       "    </tr>\n",
       "    <tr>\n",
       "      <th>2</th>\n",
       "      <td>6.2</td>\n",
       "      <td>3.390977</td>\n",
       "      <td>5.400000</td>\n",
       "      <td>2.300000</td>\n",
       "      <td>virginica</td>\n",
       "    </tr>\n",
       "    <tr>\n",
       "      <th>3</th>\n",
       "      <td>5.0</td>\n",
       "      <td>3.400000</td>\n",
       "      <td>1.600000</td>\n",
       "      <td>0.400000</td>\n",
       "      <td>setosa</td>\n",
       "    </tr>\n",
       "    <tr>\n",
       "      <th>4</th>\n",
       "      <td>5.7</td>\n",
       "      <td>2.600000</td>\n",
       "      <td>3.500000</td>\n",
       "      <td>1.000000</td>\n",
       "      <td>versicolor</td>\n",
       "    </tr>\n",
       "    <tr>\n",
       "      <th>...</th>\n",
       "      <td>...</td>\n",
       "      <td>...</td>\n",
       "      <td>...</td>\n",
       "      <td>...</td>\n",
       "      <td>...</td>\n",
       "    </tr>\n",
       "    <tr>\n",
       "      <th>145</th>\n",
       "      <td>6.7</td>\n",
       "      <td>3.100000</td>\n",
       "      <td>5.600000</td>\n",
       "      <td>2.400000</td>\n",
       "      <td>virginica</td>\n",
       "    </tr>\n",
       "    <tr>\n",
       "      <th>146</th>\n",
       "      <td>5.6</td>\n",
       "      <td>3.000000</td>\n",
       "      <td>4.500000</td>\n",
       "      <td>1.500000</td>\n",
       "      <td>versicolor</td>\n",
       "    </tr>\n",
       "    <tr>\n",
       "      <th>147</th>\n",
       "      <td>5.2</td>\n",
       "      <td>3.500000</td>\n",
       "      <td>1.500000</td>\n",
       "      <td>0.200000</td>\n",
       "      <td>setosa</td>\n",
       "    </tr>\n",
       "    <tr>\n",
       "      <th>148</th>\n",
       "      <td>6.4</td>\n",
       "      <td>3.100000</td>\n",
       "      <td>4.449962</td>\n",
       "      <td>1.800000</td>\n",
       "      <td>virginica</td>\n",
       "    </tr>\n",
       "    <tr>\n",
       "      <th>149</th>\n",
       "      <td>5.8</td>\n",
       "      <td>2.600000</td>\n",
       "      <td>4.000000</td>\n",
       "      <td>1.207299</td>\n",
       "      <td>versicolor</td>\n",
       "    </tr>\n",
       "  </tbody>\n",
       "</table>\n",
       "<p>150 rows × 5 columns</p>\n",
       "</div>"
      ],
      "text/plain": [
       "     Sepal.Length  Sepal.Width  Petal.Length  Petal.Width     Species\n",
       "0             6.4     3.200000      4.500000     1.500000  versicolor\n",
       "1             6.3     3.300000      6.000000     2.500000   virginica\n",
       "2             6.2     3.390977      5.400000     2.300000   virginica\n",
       "3             5.0     3.400000      1.600000     0.400000      setosa\n",
       "4             5.7     2.600000      3.500000     1.000000  versicolor\n",
       "..            ...          ...           ...          ...         ...\n",
       "145           6.7     3.100000      5.600000     2.400000   virginica\n",
       "146           5.6     3.000000      4.500000     1.500000  versicolor\n",
       "147           5.2     3.500000      1.500000     0.200000      setosa\n",
       "148           6.4     3.100000      4.449962     1.800000   virginica\n",
       "149           5.8     2.600000      4.000000     1.207299  versicolor\n",
       "\n",
       "[150 rows x 5 columns]"
      ]
     },
     "execution_count": 15,
     "metadata": {},
     "output_type": "execute_result"
    }
   ],
   "source": [
    "with pd.option_context('mode.use_inf_as_na', True):\n",
    "  df1=df1.replace(np.nan,df.mean())\n",
    "df1"
   ]
  },
  {
   "cell_type": "code",
   "execution_count": 16,
   "metadata": {
    "colab": {
     "base_uri": "https://localhost:8080/"
    },
    "executionInfo": {
     "elapsed": 701,
     "status": "ok",
     "timestamp": 1708513361367,
     "user": {
      "displayName": "UPASNA KUKRETI",
      "userId": "10577638876067267102"
     },
     "user_tz": -330
    },
    "id": "Wrumcr-I_ekb",
    "outputId": "52fd676d-f4fd-4779-a994-b135b5728f02"
   },
   "outputs": [
    {
     "data": {
      "text/plain": [
       "array([1.5       , 2.5       , 2.3       , 0.4       , 1.        ,\n",
       "       0.2       , 1.20729927, 1.8       , 0.6       , 1.6       ,\n",
       "       1.4       , 1.3       , 0.1       , 2.1       , 2.        ,\n",
       "       1.2       , 1.9       , 2.2       , 0.3       , 1.1       ,\n",
       "       1.7       , 2.4       , 0.5       ])"
      ]
     },
     "execution_count": 16,
     "metadata": {},
     "output_type": "execute_result"
    }
   ],
   "source": [
    "df1['Petal.Width'].unique()"
   ]
  },
  {
   "cell_type": "code",
   "execution_count": 17,
   "metadata": {
    "colab": {
     "base_uri": "https://localhost:8080/"
    },
    "executionInfo": {
     "elapsed": 437,
     "status": "ok",
     "timestamp": 1708513363992,
     "user": {
      "displayName": "UPASNA KUKRETI",
      "userId": "10577638876067267102"
     },
     "user_tz": -330
    },
    "id": "P4wtkhFUye57",
    "outputId": "21fde0a0-483c-47b7-d3bb-8bcf74751c02"
   },
   "outputs": [
    {
     "data": {
      "text/plain": [
       "Sepal.Length    False\n",
       "Sepal.Width     False\n",
       "Petal.Length    False\n",
       "Petal.Width     False\n",
       "Species         False\n",
       "dtype: bool"
      ]
     },
     "execution_count": 17,
     "metadata": {},
     "output_type": "execute_result"
    }
   ],
   "source": [
    "df1.isna().any()"
   ]
  },
  {
   "cell_type": "code",
   "execution_count": 18,
   "metadata": {
    "colab": {
     "base_uri": "https://localhost:8080/"
    },
    "executionInfo": {
     "elapsed": 681,
     "status": "ok",
     "timestamp": 1708513366713,
     "user": {
      "displayName": "UPASNA KUKRETI",
      "userId": "10577638876067267102"
     },
     "user_tz": -330
    },
    "id": "Z_k7yLwpy2Oa",
    "outputId": "384f51a6-f6fc-46e6-dba3-aded58f2f8e1"
   },
   "outputs": [
    {
     "data": {
      "text/plain": [
       "0      False\n",
       "1      False\n",
       "2      False\n",
       "3      False\n",
       "4      False\n",
       "       ...  \n",
       "145    False\n",
       "146    False\n",
       "147    False\n",
       "148    False\n",
       "149    False\n",
       "Length: 150, dtype: bool"
      ]
     },
     "execution_count": 18,
     "metadata": {},
     "output_type": "execute_result"
    }
   ],
   "source": [
    "df1.duplicated()"
   ]
  },
  {
   "cell_type": "code",
   "execution_count": 19,
   "metadata": {
    "colab": {
     "base_uri": "https://localhost:8080/",
     "height": 576
    },
    "executionInfo": {
     "elapsed": 1057,
     "status": "ok",
     "timestamp": 1708513369803,
     "user": {
      "displayName": "UPASNA KUKRETI",
      "userId": "10577638876067267102"
     },
     "user_tz": -330
    },
    "id": "nzHtow5q4bkl",
    "outputId": "4eee5b1b-37e1-4626-9b85-7e81ee9ac6ed"
   },
   "outputs": [
    {
     "name": "stdout",
     "output_type": "stream",
     "text": [
      "       R1 (All Values Positive)  R2 (Petal Length >= 2*Petal Width)  \\\n",
      "True                        146                                 141   \n",
      "False                         4                                   9   \n",
      "\n",
      "       R3 (Sepal Length <= 30 cm)  R4 (Sepal Length > Petal Length)  \n",
      "True                          148                               147  \n",
      "False                           2                                 3  \n"
     ]
    },
    {
     "data": {
      "image/png": "[encoded data removed]",
      "text/plain": [
       "<Figure size 640x480 with 1 Axes>"
      ]
     },
     "metadata": {},
     "output_type": "display_data"
    }
   ],
   "source": [
    "r1 = lambda row: all(value > 0 for value in row[:-1])\n",
    "r2 = lambda row: row['Petal.Length'] >= 2 * row['Petal.Width']\n",
    "r3 = lambda row: row['Sepal.Length'] <= 30\n",
    "r4 = lambda row: row['Sepal.Length'] > row['Petal.Length']\n",
    "\n",
    "r1_res = df1.apply(r1, axis=1)\n",
    "r2_res = df1.apply(r2, axis=1)\n",
    "r3_res = df1.apply(r3, axis=1)\n",
    "r4_res = df1.apply(r4, axis=1)\n",
    "\n",
    "rules_res = pd.DataFrame({\n",
    "    'R1 (All Values Positive)': r1_res.value_counts(),\n",
    "    'R2 (Petal Length >= 2*Petal Width)': r2_res.value_counts(),\n",
    "    'R3 (Sepal Length <= 30 cm)': r3_res.value_counts(),\n",
    "    'R4 (Sepal Length > Petal Length)': r4_res.value_counts()\n",
    "})\n",
    "print(rules_res)\n",
    "fig2=rules_res.plot.bar()"
   ]
  },
  {
   "cell_type": "code",
   "execution_count": null,
   "metadata": {
    "id": "3uF9nVb92qlA"
   },
   "outputs": [],
   "source": []
  },
  {
   "cell_type": "code",
   "execution_count": 20,
   "metadata": {
    "executionInfo": {
     "elapsed": 463,
     "status": "ok",
     "timestamp": 1708513378174,
     "user": {
      "displayName": "UPASNA KUKRETI",
      "userId": "10577638876067267102"
     },
     "user_tz": -330
    },
    "id": "TOFE0qxR5uHr"
   },
   "outputs": [],
   "source": [
    "num_col = df1.select_dtypes(include=['float64', 'int64']).columns"
   ]
  },
  {
   "cell_type": "code",
   "execution_count": 22,
   "metadata": {
    "colab": {
     "base_uri": "https://localhost:8080/",
     "height": 430
    },
    "executionInfo": {
     "elapsed": 715,
     "status": "ok",
     "timestamp": 1708513386072,
     "user": {
      "displayName": "UPASNA KUKRETI",
      "userId": "10577638876067267102"
     },
     "user_tz": -330
    },
    "id": "m_4oM3ip2qlA",
    "outputId": "a2a060cd-61ac-495a-8e73-92cc5ffdcd43"
   },
   "outputs": [
    {
     "data": {
      "image/png": "[encoded data removed]",
      "text/plain": [
       "<Figure size 640x480 with 1 Axes>"
      ]
     },
     "metadata": {},
     "output_type": "display_data"
    }
   ],
   "source": [
    "boxplot = df1.boxplot()"
   ]
  },
  {
   "cell_type": "code",
   "execution_count": null,
   "metadata": {
    "id": "3EBZDSMA2qlB"
   },
   "outputs": [],
   "source": [
    "Q1 = df1['Sepal.Length'].quantile(0.25)\n",
    "Q3 = df1['Sepal.Length'].quantile(0.75)\n",
    "IQR = Q3 - Q1\n",
    "outlier_mask = ((df1['Sepal.Length'] < (Q1 - 1.5 * IQR)) | (df1['Sepal.Length'] > (Q3 + 1.5 * IQR)))\n",
    "df2=df1.drop(outlier_mask.index)"
   ]
  },
  {
   "cell_type": "code",
   "execution_count": null,
   "metadata": {
    "id": "Kaf0eNpt2qlB"
   },
   "outputs": [],
   "source": [
    "Q1 = df1['Sepal.Width'].quantile(0.25)\n",
    "Q3 = df1['Sepal.Width'].quantile(0.75)\n",
    "IQR = Q3 - Q1\n",
    "outlier_mask = ((df1['Sepal.Width'] < (Q1 - 1.5 * IQR)) | (df1['Sepal.Width'] > (Q3 + 1.5 * IQR)))\n",
    "df2=df1.drop(outlier_mask.index)"
   ]
  },
  {
   "cell_type": "code",
   "execution_count": null,
   "metadata": {
    "id": "-b3-7fYf2qlB"
   },
   "outputs": [],
   "source": [
    "Q1 = df1['Petal.Length'].quantile(0.25)\n",
    "Q3 = df1['Petal.Length'].quantile(0.75)\n",
    "IQR = Q3 - Q1\n",
    "outlier_mask = ((df1['Petal.Length'] < (Q1 - 1.5 * IQR)) | (df1['Petal.Length'] > (Q3 + 1.5 * IQR)))\n",
    "df2=df1.drop(outlier_mask.index)"
   ]
  },
  {
   "cell_type": "code",
   "execution_count": null,
   "metadata": {
    "id": "rkv2HEO32qlB"
   },
   "outputs": [],
   "source": [
    "Q1 = df1['Petal.Width'].quantile(0.25)\n",
    "Q3 = df1['Petal.Width'].quantile(0.75)\n",
    "IQR = Q3 - Q1\n",
    "outlier_mask = ((df1['Petal.Width'] < (Q1 - 1.5 * IQR)) | (df1['Petal.Width'] > (Q3 + 1.5 * IQR)))\n",
    "df2=df1.drop(outlier_mask.index)"
   ]
  },
  {
   "cell_type": "code",
   "execution_count": null,
   "metadata": {
    "colab": {
     "base_uri": "https://localhost:8080/"
    },
    "id": "80r3xc4Q_9WW",
    "outputId": "c98425c9-36c0-4f26-d46c-00d075276b1b"
   },
   "outputs": [
    {
     "name": "stdout",
     "output_type": "stream",
     "text": [
      "Column 'Sepal.Length' has outliers.\n",
      "Column 'Sepal.Width' has outliers.\n",
      "Column 'Petal.Length' has outliers.\n",
      "Column 'Petal.Width' has outliers.\n"
     ]
    }
   ],
   "source": [
    "#for col in num_col:\n",
    "    #Q1 = df1[col].quantile(0.25)\n",
    "    #Q3 = df1[col].quantile(0.75)\n",
    "    #IQR = Q3 - Q1\n",
    "    #outlier_mask = ((df1[col] < (Q1 - 1.5 * IQR)) | (df1[col] > (Q3 + 1.5 * IQR)))\n",
    "    #if outlier_mask.any():\n",
    "        #print(\"Column '{}' has outliers.\".format(col))"
   ]
  },
  {
   "cell_type": "code",
   "execution_count": null,
   "metadata": {
    "id": "dEGqJ87S2qlC"
   },
   "outputs": [],
   "source": [
    "#df2=df1.copy()\n",
    "#for col in num_col:\n",
    "    #Q1 = df2[col].quantile(0.25)\n",
    "    #Q3 = df2[col].quantile(0.75)\n",
    "    #IQR = Q3 - Q1\n",
    "    #outlier_mask = ((df2[col] < (Q1 - 1.5 * IQR)) | (df2[col] > (Q3 + 1.5 * IQR)))\n",
    "    #df2=df2.drop(outlier_mask.index)"
   ]
  },
  {
   "cell_type": "code",
   "execution_count": null,
   "metadata": {},
   "outputs": [],
   "source": []
  },
  {
   "cell_type": "code",
   "execution_count": null,
   "metadata": {},
   "outputs": [],
   "source": []
  }
 ],
 "metadata": {
  "colab": {
   "provenance": []
  },
  "kernelspec": {
   "display_name": "Python 3 (ipykernel)",
   "language": "python",
   "name": "python3"
  },
  "language_info": {
   "codemirror_mode": {
    "name": "ipython",
    "version": 3
   },
   "file_extension": ".py",
   "mimetype": "text/x-python",
   "name": "python",
   "nbconvert_exporter": "python",
   "pygments_lexer": "ipython3",
   "version": "3.11.5"
  }
 },
 "nbformat": 4,
 "nbformat_minor": 1
}
